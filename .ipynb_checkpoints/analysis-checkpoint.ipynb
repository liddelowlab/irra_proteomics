{
 "cells": [
  {
   "cell_type": "code",
   "execution_count": 1,
   "id": "ad66274b-bce6-49ce-921b-a59cde0888d2",
   "metadata": {},
   "outputs": [],
   "source": [
    "import os"
   ]
  },
  {
   "cell_type": "code",
   "execution_count": 2,
   "id": "993bb29b-4ea4-4df1-9445-f8139da36b11",
   "metadata": {},
   "outputs": [],
   "source": [
    "%load_ext rpy2.ipython"
   ]
  },
  {
   "cell_type": "code",
   "execution_count": null,
   "id": "922c2dde-f4c8-4572-ae16-9bc08aeabda5",
   "metadata": {},
   "outputs": [
    {
     "name": "stderr",
     "output_type": "stream",
     "text": [
      "R[write to console]: Loading required package: S4Vectors\n",
      "\n",
      "R[write to console]: Loading required package: stats4\n",
      "\n",
      "R[write to console]: Loading required package: BiocGenerics\n",
      "\n",
      "R[write to console]: \n",
      "Attaching package: ‘BiocGenerics’\n",
      "\n",
      "\n",
      "R[write to console]: The following objects are masked from ‘package:stats’:\n",
      "\n",
      "    IQR, mad, sd, var, xtabs\n",
      "\n",
      "\n",
      "R[write to console]: The following objects are masked from ‘package:base’:\n",
      "\n",
      "    anyDuplicated, append, as.data.frame, basename, cbind, colnames,\n",
      "    dirname, do.call, duplicated, eval, evalq, Filter, Find, get, grep,\n",
      "    grepl, intersect, is.unsorted, lapply, Map, mapply, match, mget,\n",
      "    order, paste, pmax, pmax.int, pmin, pmin.int, Position, rank,\n",
      "    rbind, Reduce, rownames, sapply, setdiff, sort, table, tapply,\n",
      "    union, unique, unsplit, which.max, which.min\n",
      "\n",
      "\n"
     ]
    }
   ],
   "source": [
    "%%R\n",
    "\n",
    "# load required packages\n",
    "library(DESeq2)\n",
    "library(sva) \n",
    "library(tidyverse)\n",
    "library(RColorBrewer)\n",
    "library(ComplexHeatmap) \n",
    "library(DEGreport) \n",
    "library(tximport) \n",
    "library(ggplot2)\n",
    "library(ggrepel)\n",
    "library(biomaRt)\n",
    "library(stringr)\n",
    "library(readxl)\n",
    "library(ggpubr) \n",
    "library(viridis)\n",
    "library(rtracklayer)\n",
    "library(limma)\n",
    "library(forcats)\n",
    "\n"
   ]
  },
  {
   "cell_type": "code",
   "execution_count": null,
   "id": "80aeccde-36c6-445a-a59d-5095cf3dbd62",
   "metadata": {},
   "outputs": [],
   "source": [
    "%%R\n",
    "\n",
    "# read in RNA-seq sample metadata file (RNA-seq data from Hasel et al 2021, PMID: PMID: 34413515, GEO accession GSE165069)\n",
    "samples <- read.table(\"input_data/SraRunTable.txt\", header = TRUE, sep = \",\")"
   ]
  },
  {
   "cell_type": "code",
   "execution_count": null,
   "id": "b752189b-3b55-4dfb-b618-6cb244d29eda",
   "metadata": {},
   "outputs": [],
   "source": [
    "%%R\n",
    "\n",
    "samples"
   ]
  },
  {
   "cell_type": "code",
   "execution_count": null,
   "id": "e99c42ea-8dc3-4ad7-afa3-ec490fd10cb9",
   "metadata": {},
   "outputs": [],
   "source": [
    "%%R\n",
    "# create and name salmon transcript counts file paths (file tree structure is \"input_data/[Sample]/quant.sf\", with subfolders for each samples)\n",
    "files <- file.path(\"input_data/hasel_2021_tici/salmon/output\", samples$Run, \"quant.sf\")\n",
    "names(files) <- samples$Run"
   ]
  },
  {
   "cell_type": "code",
   "execution_count": null,
   "id": "32c73138-caed-45c8-a664-bda07d5d8d6e",
   "metadata": {},
   "outputs": [],
   "source": [
    "%%R\n",
    "# read in Ensembl rat genome GTF file (obtained from https://ftp.ensembl.org/pub/release-108/gtf/rattus_norvegicus/Rattus_norvegicus.mRatBN7.2.108.gtf.gz)\n",
    "rat.gtf.df <- as.data.frame(import('input_data/Rattus_norvegicus.mRatBN7.2.108.gtf'))\n",
    "\n",
    "# create transcript-to-gene data frame\n",
    "tx2gene <- rat.gtf.df[,c(\"transcript_id\", \"gene_name\")]"
   ]
  },
  {
   "cell_type": "code",
   "execution_count": null,
   "id": "ffcc2369-7703-4794-8c93-f5b24b52b5c1",
   "metadata": {},
   "outputs": [],
   "source": [
    "%%R\n",
    "# drop rows of transcript-to-gene data frame which contain an NA value for either column\n",
    "tx2gene <- tx2gene %>% drop_na(gene_name) %>% drop_na(transcript_id)"
   ]
  },
  {
   "cell_type": "code",
   "execution_count": null,
   "id": "38edc641-84ed-4965-aac5-c7a14517904d",
   "metadata": {},
   "outputs": [],
   "source": [
    "%%R\n",
    "\n",
    "head(tx2gene, n = 25)"
   ]
  },
  {
   "cell_type": "code",
   "execution_count": null,
   "id": "49e61641-a0aa-480f-9c6f-1481ad58f0f7",
   "metadata": {},
   "outputs": [],
   "source": [
    "%%R\n",
    "\n",
    "# import salmon counts files\n",
    "txi <- tximport(files, type=\"salmon\", txIn = TRUE, txOut = FALSE, tx2gene=tx2gene, importer=read_tsv, ignoreTxVersion=TRUE)"
   ]
  },
  {
   "cell_type": "code",
   "execution_count": null,
   "id": "70b67407-3675-4bfc-ab26-676cb2195a90",
   "metadata": {},
   "outputs": [],
   "source": [
    "%%R\n",
    "# rename interferon treated condition metadata to 'TICI'\n",
    "samples <- samples %>% mutate(stimulation = ifelse(stimulation == \"IFNb (1000 U/ml)+TIC\", \"TICI\", \"PBS\"))"
   ]
  },
  {
   "cell_type": "code",
   "execution_count": null,
   "id": "631983ab-9eb0-44d0-8580-7fc381b5fb6d",
   "metadata": {},
   "outputs": [],
   "source": [
    "%%R\n",
    "# create DESeq dataset object\n",
    "ddsTxi <- DESeqDataSetFromTximport(txi,\n",
    "                                   colData = samples,\n",
    "                                   design = ~stimulation)"
   ]
  },
  {
   "cell_type": "code",
   "execution_count": null,
   "id": "7c1c5005-519e-449f-a089-1d08022921b2",
   "metadata": {},
   "outputs": [],
   "source": [
    "%%R\n",
    "# collapse replicates into individual samples\n",
    "dds <- collapseReplicates(ddsTxi, groupby = ddsTxi$BioSample, ddsTxi$Run)"
   ]
  },
  {
   "cell_type": "code",
   "execution_count": null,
   "id": "9f2b893d-2658-4611-a80e-4f07e1d73988",
   "metadata": {},
   "outputs": [],
   "source": [
    "%%R\n",
    "# estimate size factors\n",
    "dds <- estimateSizeFactors(dds)\n",
    "ddssva <- dds\n",
    "\n",
    "# create model matrices for sva\n",
    "dat  <- counts(ddssva, normalized = TRUE)\n",
    "idx  <- rowMeans(dat) > 1\n",
    "dat  <- dat[idx, ]\n",
    "mod  <- model.matrix(~stimulation, colData(ddssva))\n",
    "mod0 <- model.matrix(~ 1, colData(ddssva))"
   ]
  },
  {
   "cell_type": "code",
   "execution_count": null,
   "id": "e0f5c285-98dc-4d65-b1d8-ea5afdf314f1",
   "metadata": {},
   "outputs": [],
   "source": [
    "%%R\n",
    "# run sva\n",
    "set.seed(111)\n",
    "svseq <- svaseq(dat, mod, mod0)"
   ]
  },
  {
   "cell_type": "code",
   "execution_count": null,
   "id": "c65a8339-7169-4c06-925e-e5bc66bdf410",
   "metadata": {},
   "outputs": [],
   "source": [
    "%%R\n",
    "# add surrogate variables to DESeq2 design\n",
    "ddssva$SV1 <- svseq$sv[,1]\n",
    "ddssva$SV2 <- svseq$sv[,2]\n",
    "design(ddssva) <- ~ SV1 + SV2 + stimulation"
   ]
  },
  {
   "cell_type": "code",
   "execution_count": null,
   "id": "c3a37c1d-61ac-4eb8-8cf9-05ebac036669",
   "metadata": {},
   "outputs": [],
   "source": [
    "%%R\n",
    "# estimate size factors, dispersions, and run negative bionmial Wald Test\n",
    "ddssva <- estimateSizeFactors(ddssva)\n",
    "ddssva <- estimateDispersions(ddssva)\n",
    "ddssva <- nbinomWaldTest(ddssva, maxit = 1000)"
   ]
  },
  {
   "cell_type": "code",
   "execution_count": null,
   "id": "9b3e9502-7974-4a99-9804-03e6e6d7c5fc",
   "metadata": {},
   "outputs": [],
   "source": [
    "%%R -w 8 -h 6 --units in -r 300\n",
    "# plot dispersion estimates\n",
    "plotDispEsts(ddssva)"
   ]
  },
  {
   "cell_type": "code",
   "execution_count": null,
   "id": "8ec08a7d-9693-4899-a118-195f1222b925",
   "metadata": {},
   "outputs": [],
   "source": [
    "%%R\n",
    "# obtain rlog data\n",
    "rld <- rlog(ddssva, blind=FALSE)"
   ]
  },
  {
   "cell_type": "code",
   "execution_count": null,
   "id": "35e4b4ee-f4e3-4157-abbe-85cac958fd5b",
   "metadata": {},
   "outputs": [],
   "source": [
    "%%R -w 4 -h 4 --units in -r 300\n",
    "# extract PCA results from plotPCA deseq2 function \n",
    "pcaplot <- plotPCA(rld, intgroup=c(\"stimulation\"))  \n",
    "pca.data <- plotPCA(rld, intgroup=c(\"stimulation\"), returnData = TRUE)  \n",
    "\n",
    "# create PCA plot\n",
    "ggplot(pca.data,aes(x=PC1,y=PC2,color=stimulation)) + \n",
    "  geom_point(size = 3) + \n",
    "  scale_color_manual(values = c(\"#B4464B\", \"#4682B4\")) +\n",
    "  theme_pubr() + \n",
    "  theme(aspect.ratio = 1, legend.position = \"right\") + \n",
    "  labs(color = \"Condition\", x = pcaplot$labels$x, y = pcaplot$labels$y) "
   ]
  },
  {
   "cell_type": "code",
   "execution_count": null,
   "id": "4823ad05-fc96-422d-aa77-7e994f5fa083",
   "metadata": {},
   "outputs": [],
   "source": [
    "%%R\n",
    "# get LFC shurnken results contrasting TICI versus PBS treated astrocytes\n",
    "TICI.v.PBS.sva <- lfcShrink(ddssva, coef=\"stimulation_TICI_vs_PBS\", type=\"apeglm\")\n",
    "sig.TICI.v.PBS.sva <- TICI.v.PBS.sva %>% data.frame() %>% filter(abs(log2FoldChange) > 0.25) %>% filter(padj < 0.05) %>% arrange(desc(log2FoldChange), desc(baseMean))\n",
    "sig.TICI.v.PBS.sva$gene <- rownames(sig.TICI.v.PBS.sva)"
   ]
  },
  {
   "cell_type": "code",
   "execution_count": null,
   "id": "0cbc319a-c4a5-4e24-96f9-ef9cff17133a",
   "metadata": {},
   "outputs": [],
   "source": [
    "%%R\n",
    "\n",
    "head(sig.TICI.v.PBS.sva %>% arrange(padj))"
   ]
  },
  {
   "cell_type": "code",
   "execution_count": null,
   "id": "597ff1d8-c419-447d-9bf8-d50c4b946b6a",
   "metadata": {},
   "outputs": [],
   "source": [
    "%%R\n",
    "# read in MaxQuant proteomics results file\n",
    "prot.df <- read_excel(\"input_data/Rodent_TICI_VEH_CellularProteome_Mouse_Rat_imputed.xls\")"
   ]
  },
  {
   "cell_type": "code",
   "execution_count": null,
   "id": "f8aeded3-46f7-4980-b8f3-d15e10572b75",
   "metadata": {},
   "outputs": [],
   "source": [
    "%%R\n",
    "\n",
    "prot.df"
   ]
  },
  {
   "cell_type": "code",
   "execution_count": null,
   "id": "a8df274c-8c02-41c1-aaf4-b48667603be6",
   "metadata": {},
   "outputs": [],
   "source": [
    "%%R\n",
    "\n",
    "colnames(prot.df)"
   ]
  },
  {
   "cell_type": "code",
   "execution_count": null,
   "id": "945e751d-a9e4-478e-91e7-b0ef6a4fea4c",
   "metadata": {},
   "outputs": [],
   "source": [
    "%%R\n",
    "# remove unneeded columns\n",
    "prot.df <- prot.df[, c(\"p value\", \"Difference\", \"Protein IDs\", \"Protein names\", \"Gene names\", \"TICI...16\", \"VEH...17\", \"TICI...18\", \"TICI...20\", \"VEH...21\", \"TICI...22\", \"VEH...23\", \"TICI...24\", \"VEH...25\")]"
   ]
  },
  {
   "cell_type": "code",
   "execution_count": null,
   "id": "e788dece-ea35-4c57-8809-0290d127a30e",
   "metadata": {},
   "outputs": [],
   "source": [
    "%%R\n",
    "# rename columns\n",
    "colnames(prot.df) <- c(\"pval\", \"log2FC\", \"protein\", \"protein_names\", \"gene_names\", \"TICI_1\", \"VEH_1\", \"TICI_2\", \"TICI_3\", \"VEH_3\", \"TICI_4\", \"VEH_4\", \"TICI_5\", \"VEH_5\")"
   ]
  },
  {
   "cell_type": "code",
   "execution_count": null,
   "id": "411fe18d-6b96-4009-8ef0-e829dcee76d4",
   "metadata": {},
   "outputs": [],
   "source": [
    "%%R\n",
    "# get number of proteins for which multiple corresponding genes are named\n",
    "length(grep(\";\", prot.df$gene_names)) # 97 protein entries have multiple gene names listed"
   ]
  },
  {
   "cell_type": "code",
   "execution_count": null,
   "id": "98daf6bd-ef41-4e91-b87d-a9eaa6533378",
   "metadata": {},
   "outputs": [],
   "source": [
    "%%R\n",
    "# list all gene entries for proteins with multiple corresponding genes\n",
    "prot.df[grep(\";\", prot.df$gene_names),]$gene_names"
   ]
  },
  {
   "cell_type": "code",
   "execution_count": null,
   "id": "b9504d4e-e1cf-40f7-824e-0ead0274ff7d",
   "metadata": {},
   "outputs": [],
   "source": [
    "%%R\n",
    "# extract all protein entires with multiple genes\n",
    "mult.gene.df <- prot.df[grep(\";\", prot.df$gene_names),]\n",
    "\n",
    "mult.gene.df"
   ]
  },
  {
   "cell_type": "code",
   "execution_count": null,
   "id": "4425ab19-3f08-4e86-a406-1c1c1c5252ab",
   "metadata": {},
   "outputs": [],
   "source": [
    "%%R\n",
    "# split the gene entries with multiple genes listed into separate rows\n",
    "prot.df <- prot.df %>% \n",
    "    mutate(gene_names = strsplit(as.character(gene_names), \";\")) %>% \n",
    "    unnest(gene_names)"
   ]
  },
  {
   "cell_type": "code",
   "execution_count": null,
   "id": "4e5131d0-77b0-429e-8997-1e0cf5fac850",
   "metadata": {},
   "outputs": [],
   "source": [
    "%%R\n",
    "# make new data frame containing only proteins for which the corresponding gene entries are also present in the DESeq2 results object\n",
    "conserved.prots <- prot.df[(prot.df$gene_names %in% rownames(TICI.v.PBS.sva)),]"
   ]
  },
  {
   "cell_type": "code",
   "execution_count": null,
   "id": "89694377-a714-4a89-b4ee-7373b137d18a",
   "metadata": {},
   "outputs": [],
   "source": [
    "%%R\n",
    "# rename columns\n",
    "conserved.prots <- conserved.prots[,c(\"protein\", \"gene_names\", \"log2FC\", \"pval\", \"TICI_1\", \"VEH_1\", \"TICI_2\", \"TICI_3\", \"VEH_3\", \"TICI_4\", \"VEH_4\", \"TICI_5\", \"VEH_5\")]"
   ]
  },
  {
   "cell_type": "code",
   "execution_count": null,
   "id": "ce6aff20-9d89-48f5-bb48-3e806982e6ff",
   "metadata": {},
   "outputs": [],
   "source": [
    "%%R\n",
    "\n",
    "conserved.prots"
   ]
  },
  {
   "cell_type": "code",
   "execution_count": null,
   "id": "774b7d17-cec0-41ad-9319-870179ceea18",
   "metadata": {},
   "outputs": [],
   "source": [
    "%%R\n",
    "# subset DESeq2 results object to only contain genes for which corresponding proteins are present in the MaxQuant results dataframe\n",
    "conserved.genes <- TICI.v.PBS.sva[(rownames(TICI.v.PBS.sva) %in% conserved.prots$gene_names), c(\"log2FoldChange\", \"padj\")]\n",
    "conserved.genes$gene <- rownames(conserved.genes)"
   ]
  },
  {
   "cell_type": "code",
   "execution_count": null,
   "id": "d5b1b84c-935c-4184-9bdb-a1724c873c96",
   "metadata": {},
   "outputs": [],
   "source": [
    "%%R\n",
    "# create a merged data frame combining the proteomics and DESeq2 results dataframes, merging by gene name\n",
    "merge.df <- merge(x = conserved.prots, y = as.data.frame(conserved.genes), by.x = \"gene_names\", by.y = \"gene\", all.x = TRUE)"
   ]
  },
  {
   "cell_type": "code",
   "execution_count": null,
   "id": "d214e66e-f4e2-44b8-98d7-034993c47149",
   "metadata": {},
   "outputs": [],
   "source": [
    "%%R\n",
    "\n",
    "head(merge.df)"
   ]
  },
  {
   "cell_type": "code",
   "execution_count": null,
   "id": "a3f73081-f81f-4d61-9c31-12c687387d6a",
   "metadata": {},
   "outputs": [],
   "source": [
    "%%R\n",
    "# add a significance column describing whether each entry is statistically differentially expressed/abundant at the RNA and/or protein level\n",
    "merge.df <- merge.df %>% mutate(significance = ifelse((pval < 0.05) & (padj < 0.05), \"Both\", \n",
    "                                                     ifelse((pval < 0.05) & (padj >= 0.05), \"Protein only\", \n",
    "                                                           ifelse((pval >= 0.05) & (padj < 0.05), \"RNA only\", \n",
    "                                                                 ifelse((pval >= 0.05) & (padj >= 0.05), \"Neither\", \"X\")))))"
   ]
  },
  {
   "cell_type": "code",
   "execution_count": null,
   "id": "855735c8-671d-447b-a8ea-31c15e542f58",
   "metadata": {},
   "outputs": [],
   "source": [
    "%%R\n",
    "# remove entries for which the DESeq2 results object contained an NA entry in the log2FC or p-value columns\n",
    "merge.df <- merge.df %>% filter(!is.na(log2FoldChange) & !is.na(padj))"
   ]
  },
  {
   "cell_type": "code",
   "execution_count": null,
   "id": "53cc6fd5-4227-4e36-87c6-a55781745481",
   "metadata": {},
   "outputs": [],
   "source": [
    "%%R\n",
    "# summarise the number of entries in each significance category\n",
    "table(merge.df$significance)"
   ]
  },
  {
   "cell_type": "code",
   "execution_count": null,
   "id": "0ede5cca-6f3a-446b-8478-464621fabca6",
   "metadata": {},
   "outputs": [],
   "source": [
    "%%R\n",
    "# re-order significance entries\n",
    "merge.df$significance <- factor(merge.df$significance, levels = c(\"Neither\", \"RNA only\", \"Protein only\", \"Both\"))"
   ]
  },
  {
   "cell_type": "code",
   "execution_count": null,
   "id": "d1a45f98-0024-4ab6-9b56-cd749b605719",
   "metadata": {},
   "outputs": [],
   "source": [
    "%%R\n",
    "\n",
    "merge.df$Significance <- as.character(merge.df$significance)"
   ]
  },
  {
   "cell_type": "code",
   "execution_count": null,
   "id": "b5825d2f-b488-43f2-8d7c-1f4ea0ab2cfe",
   "metadata": {},
   "outputs": [],
   "source": [
    "%%R\n",
    "# alter significance category Both to reflect the agreement of sign of the significance (positive or negative) at the protein level and gene expression level\n",
    "merge.df <- merge.df %>% mutate(Significance = ifelse((Significance == \"Both\") & (sign(log2FoldChange) == sign(log2FC)), \"Both (concordant)\",\n",
    "                                         ifelse((Significance == \"Both\") & (sign(log2FoldChange) != sign(log2FC)), \"Both (discordant)\", Significance)))"
   ]
  },
  {
   "cell_type": "code",
   "execution_count": null,
   "id": "c6bb90aa-0c40-46f3-b8d4-87df117010fa",
   "metadata": {},
   "outputs": [],
   "source": [
    "%%R\n",
    "# summarise the number protein-gene pairs of each category\n",
    "table(merge.df$Significance)"
   ]
  },
  {
   "cell_type": "code",
   "execution_count": null,
   "id": "7a2d5366-fe99-4566-b9a0-29f7a19b1847",
   "metadata": {},
   "outputs": [],
   "source": [
    "%%R\n",
    "# re-level factors\n",
    "merge.df$Significance <- factor(merge.df$Significance, levels = c(\"Neither\", \"RNA only\", \"Protein only\", \"Both (discordant)\", \"Both (concordant)\"))"
   ]
  },
  {
   "cell_type": "code",
   "execution_count": null,
   "id": "6bf3c58a-f258-4089-8869-d19242522675",
   "metadata": {},
   "outputs": [],
   "source": [
    "%%R\n",
    "# rename categories to reflect their number of entries (for plotting)\n",
    "merge.df <- merge.df %>% mutate(Significance = ifelse(Significance == \"Both (concordant)\", \"Both (concordant)(n = 67)\", \n",
    "                                                      ifelse(Significance == \"Both (discordant)\", \"Both (discordant)(n = 8)\",\n",
    "                                                             ifelse(Significance == \"Protein only\", \"Protein only (n = 14)\",\n",
    "                                                                    ifelse(Significance == \"RNA only\", \"RNA only (n = 966)\",\n",
    "                                                                        ifelse(Significance == \"Neither\", \"Neither (n = 1099)\", Significance))))))"
   ]
  },
  {
   "cell_type": "code",
   "execution_count": null,
   "id": "6b4979dd-3382-4c51-b241-bb863d4db4fe",
   "metadata": {},
   "outputs": [],
   "source": [
    "%%R\n",
    "# re-level entries\n",
    "merge.df$Significance <- factor(merge.df$Significance, levels = c(\"Neither (n = 1099)\", \"RNA only (n = 966)\", \"Protein only (n = 14)\", \"Both (discordant)(n = 8)\", \"Both (concordant)(n = 67)\"))"
   ]
  },
  {
   "cell_type": "code",
   "execution_count": null,
   "id": "ae4c7f3c-27a3-4d27-9fe0-a505aa7ca86f",
   "metadata": {},
   "outputs": [],
   "source": [
    "%%R\n",
    "# obtain TPM matrix from tximport object\n",
    "tpm.mat <- txi$abundance"
   ]
  },
  {
   "cell_type": "code",
   "execution_count": null,
   "id": "47015224-0980-487d-91fd-404f442b8d87",
   "metadata": {},
   "outputs": [],
   "source": [
    "%%R\n",
    "\n",
    "head(tpm.mat)"
   ]
  },
  {
   "cell_type": "code",
   "execution_count": null,
   "id": "470e0ed7-9ac4-489d-8ee3-0d6b01bcb6c6",
   "metadata": {},
   "outputs": [],
   "source": [
    "%%R\n",
    "# combine technical replicate columns to reflect single samples\n",
    "tpm.mat <- data.frame(\"PBS_1\" = rowSums(tpm.mat[, c(1, 2)]), \n",
    "                     \"PBS_2\" = rowSums(tpm.mat[, c(3, 4)]), \n",
    "                     \"PBS_3\" = rowSums(tpm.mat[, c(5, 6)]), \n",
    "                     \"TICI_1\" = rowSums(tpm.mat[, c(7, 8)]), \n",
    "                     \"TICI_2\" = rowSums(tpm.mat[, c(9, 10)]), \n",
    "                     \"TICI_3\" = rowSums(tpm.mat[, c(11, 12)]))"
   ]
  },
  {
   "cell_type": "code",
   "execution_count": null,
   "id": "c76599e9-1dcc-45a3-8fbb-bf6e42b5ef83",
   "metadata": {},
   "outputs": [],
   "source": [
    "%%R\n",
    "# divide each value by 2 to correct for combining columns\n",
    "tpm.mat <- tpm.mat/2"
   ]
  },
  {
   "cell_type": "code",
   "execution_count": null,
   "id": "6f6d00b3-c0fd-4a8b-8b7f-4630fa132990",
   "metadata": {},
   "outputs": [],
   "source": [
    "%%R\n",
    "# obtain average TPM expression for the PBS and TICI treated cultures for each gene\n",
    "avg.tpm.pbs <- rowMeans(tpm.mat[,1:3])\n",
    "avg.tpm.tici <- rowMeans(tpm.mat[,4:6])"
   ]
  },
  {
   "cell_type": "code",
   "execution_count": null,
   "id": "30fde5d3-b763-410f-a389-2e52eb0ccd5f",
   "metadata": {},
   "outputs": [],
   "source": [
    "%%R\n",
    "# filter out only the genes present in the merged dataframe object\n",
    "avg.tpm.pbs <- avg.tpm.pbs[names(avg.tpm.pbs) %in% merge.df$gene]\n",
    "avg.tpm.tici <- avg.tpm.tici[names(avg.tpm.tici) %in% merge.df$gene]"
   ]
  },
  {
   "cell_type": "code",
   "execution_count": null,
   "id": "32e02ec9-c12b-4872-9748-aa2f52b2a752",
   "metadata": {},
   "outputs": [],
   "source": [
    "%%R\n",
    "# create new blank column in merged data frame which will be filled in with the average PBS and TICI TPM values for each gene \n",
    "merge.df$pbs_tpm <- NA\n",
    "merge.df$tici_tpm <- NA"
   ]
  },
  {
   "cell_type": "code",
   "execution_count": null,
   "id": "27576eb7-0c72-427e-84c4-76fe0ca391bb",
   "metadata": {},
   "outputs": [],
   "source": [
    "%%R\n",
    "# add averate TPM value for each gene in merged data frame\n",
    "for(i in 1:nrow(merge.df)){\n",
    "    merge.df[i, ]$pbs_tpm <- avg.tpm.pbs[merge.df[i, ]$gene]\n",
    "    merge.df[i, ]$tici_tpm <- avg.tpm.tici[merge.df[i, ]$gene]\n",
    "}"
   ]
  },
  {
   "cell_type": "code",
   "execution_count": null,
   "id": "195a91fc-9177-4adb-969a-2eb868da6670",
   "metadata": {},
   "outputs": [],
   "source": [
    "%%R\n",
    "\n",
    "head(merge.df)"
   ]
  },
  {
   "cell_type": "code",
   "execution_count": null,
   "id": "8f900ee2-a687-4016-8078-f9612ca6ec0b",
   "metadata": {},
   "outputs": [],
   "source": [
    "%%R\n",
    "# calculate average abundance value for each protein across TICI samples\n",
    "merge.df <- merge.df %>% rowwise() %>% mutate(TICI_abundance = mean(c(TICI_1, TICI_2, TICI_3, TICI_4, TICI_5)))"
   ]
  },
  {
   "cell_type": "code",
   "execution_count": null,
   "id": "2388d36c-df55-4ca1-942e-f5cc528a7e66",
   "metadata": {},
   "outputs": [],
   "source": [
    "%%R\n",
    "# calculate average abundance value for each protein across PBS samples\n",
    "merge.df <- merge.df %>% rowwise() %>% mutate(VEH_abundance = mean(c(VEH_1, VEH_3, VEH_4, VEH_5)))"
   ]
  },
  {
   "cell_type": "code",
   "execution_count": null,
   "id": "b5ef2a75-d759-4ec6-939c-2e91f1d09b83",
   "metadata": {},
   "outputs": [],
   "source": [
    "%%R\n",
    "\n",
    "head(merge.df)"
   ]
  },
  {
   "cell_type": "code",
   "execution_count": null,
   "id": "508c4c86-d7e0-4e0d-8aff-ec474764d256",
   "metadata": {},
   "outputs": [],
   "source": [
    "%%R\n",
    "# log transform TPM values\n",
    "merge.df <- merge.df %>% mutate(log10_pbs_tpm = log10(pbs_tpm)) %>% mutate(log10_tici_tpm = log10(tici_tpm))"
   ]
  },
  {
   "cell_type": "code",
   "execution_count": null,
   "id": "104338d9-ed59-4f72-bfde-5f527e3984cf",
   "metadata": {},
   "outputs": [],
   "source": [
    "%%R -w 9 -h 6 --units in -r 300\n",
    "# create scatter plot showing correlation between average TPM and average TMT intensity for each protein-gene pair for the PBS samples\n",
    "ggscatterhist(\n",
    " merge.df, x = \"log10_pbs_tpm\", y = \"VEH_abundance\",\n",
    "    alpha = 0.5, color = \"black\", shape = 19,\n",
    "   fill = \"black\", size = 1,\n",
    "    xlab = \"log10 TPM (RNA)\", ylab = \"log10 TMT Intensity (protein)\",\n",
    "    ggtheme = theme_pubr() + theme(aspect.ratio = 1), \n",
    "    cor.coef = TRUE, cor.method = \"pearson\", add = \"reg.line\",\n",
    " margin.params = list(fill = \"gray\", color = \"black\", size = 0.2)\n",
    ") \n"
   ]
  },
  {
   "cell_type": "code",
   "execution_count": null,
   "id": "4acefb30-3a29-4ac3-a7f0-01784685e5dc",
   "metadata": {},
   "outputs": [],
   "source": [
    "%%R -w 9 -h 6 --units in -r 300\n",
    "# create scatter plot showing correlation between average TPM and average TMT intensity for each protein-gene pair for the TICI samples\n",
    "ggscatterhist(\n",
    " merge.df, x = \"log10_tici_tpm\", y = \"TICI_abundance\",\n",
    "    alpha = 0.5, color = \"black\", shape = 19,\n",
    "   fill = \"black\", size = 1,\n",
    "    xlab = \"log10 TPM (RNA)\", ylab = \"log10 TMT Intensity (protein)\",\n",
    "    ggtheme = theme_pubr() + theme(aspect.ratio = 1), \n",
    "    cor.coef = TRUE, cor.method = \"pearson\", add = \"reg.line\",\n",
    " margin.params = list(fill = \"gray\", color = \"black\", size = 0.2)\n",
    ") \n"
   ]
  },
  {
   "cell_type": "code",
   "execution_count": null,
   "id": "b3cc853e-a907-464e-a555-e7a543c8ac44",
   "metadata": {},
   "outputs": [],
   "source": [
    "%%R\n",
    "# print results for protein-gene pairs for which the log2FC's are significant and in the same direction\n",
    "print(merge.df[merge.df$Significance == \"Both (concordant)(n = 67)\",], n= 68)"
   ]
  },
  {
   "cell_type": "code",
   "execution_count": null,
   "id": "d483b33f-faac-4692-9b1b-3bf5841c69be",
   "metadata": {},
   "outputs": [],
   "source": [
    "%%R\n",
    "# print results for protein-gene pairs for which the log2FC's are significant and in the opposite direction\n",
    "print(merge.df[merge.df$Significance == \"Both (discordant)(n = 8)\",], n= 10)"
   ]
  },
  {
   "cell_type": "code",
   "execution_count": null,
   "id": "8c16acab-187f-4d51-bb37-59a91eeb0d5e",
   "metadata": {},
   "outputs": [],
   "source": [
    "%%R\n",
    "# print results for protein-gene pairs for which the protein is differentially abundant but the gene is not differentially expressed\n",
    "print(merge.df[merge.df$Significance == \"Protein only (n = 14)\",], n= 15)"
   ]
  },
  {
   "cell_type": "code",
   "execution_count": null,
   "id": "ab0bb115-f703-4d4e-889b-51f3d4650c4e",
   "metadata": {},
   "outputs": [],
   "source": [
    "%%R\n",
    "# print results for protein-gene pairs for which the gene is differentially expressed but the protein is not differentially abundant\n",
    "print(merge.df[merge.df$Significance == \"RNA only (n = 966)\",], n= 15)"
   ]
  },
  {
   "cell_type": "code",
   "execution_count": null,
   "id": "1f0e3965-c6f1-4664-a31c-97ceebef8054",
   "metadata": {},
   "outputs": [],
   "source": [
    "%%R\n",
    "# print results for protein-gene pairs for which the gene is differentially expressed but the protein is not differentially abundant\n",
    "print(merge.df[merge.df$Significance == \"Neither (n = 1099)\",], n= 15)"
   ]
  },
  {
   "cell_type": "code",
   "execution_count": null,
   "id": "08f8f443-7c5a-4e57-9130-1a2f10f90ad8",
   "metadata": {},
   "outputs": [],
   "source": [
    "%%R\n",
    "# save CSV files with results\n",
    "write.csv(merge.df[merge.df$Significance == \"Both (concordant)(n = 67)\",], \"output_files/concordant_results.csv\")\n",
    "write.csv(merge.df[merge.df$Significance == \"Both (discordant)(n = 8)\",], \"output_files/discordant_results.csv\")\n",
    "write.csv(merge.df[merge.df$Significance == \"Protein only (n = 14)\",], \"output_files/protein_only_results.csv\")\n",
    "write.csv(merge.df[merge.df$Significance == \"RNA only (n = 966)\",], \"output_files/rna_only_results.csv\")\n",
    "write.csv(merge.df[merge.df$Significance == \"Neither (n = 1099)\",], \"output_files/neither_results.csv\")"
   ]
  },
  {
   "cell_type": "code",
   "execution_count": null,
   "id": "6a301fd5-d0ea-4412-bb02-9e006368ff89",
   "metadata": {},
   "outputs": [],
   "source": [
    "%%R\n",
    "# save objects\n",
    "saveRDS(tx2gene, \"output_files/tx2gene_dictionary.rds\")\n",
    "saveRDS(txi, \"output_files/tximport_object.rds\")\n",
    "saveRDS(ddsTxi, \"output_files/deseq2Txi_object.rds\")\n",
    "\n",
    "saveRDS(dds, \"output_files/deseq2_object.rds\")\n",
    "saveRDS(ddssva, \"output_files/deseq2_object_sva_corrected.rds\")\n",
    "saveRDS(rld, \"output_files/rld_matrix.rds\")\n",
    "\n",
    "saveRDS(TICI.v.PBS.sva, \"output_files/deseq2_results_object.rds\")\n",
    "saveRDS(sig.TICI.v.PBS.sva, \"output_files/significant_TICI_vs_PBS_degs_deseq2_results.rds\")"
   ]
  },
  {
   "cell_type": "code",
   "execution_count": null,
   "id": "ea88ef91-56a4-4668-992c-d8eb891566a5",
   "metadata": {},
   "outputs": [],
   "source": [
    "%%R\n",
    "# save merged results object\n",
    "saveRDS(merge.df, \"output_files/merged_protein_gene_comparison_dataframe_with_protein_names.rds\")"
   ]
  },
  {
   "cell_type": "code",
   "execution_count": null,
   "id": "6543d4b3-1df1-49d7-8eb1-c3dcfabbfbf5",
   "metadata": {},
   "outputs": [],
   "source": [
    "%%R -w 9 -h 6 --units in -r 300\n",
    "# plot log2FC scatterplot comparing protein and gene changes in TICI versus PBS samples, and their agreement\n",
    "plot <- ggscatterhist(\n",
    " merge.df %>% arrange(significance), x = \"log2FoldChange\", y = \"log2FC\",\n",
    "    alpha = 0.5, color = \"Significance\", shape = 19,\n",
    "   fill = \"Significance\", size = 1, palette = c(\"lightgray\", rev(RColorBrewer::brewer.pal(n=3, name = \"Dark2\"))[1], rev(RColorBrewer::brewer.pal(n=3, name = \"Dark2\"))[2], \"#FF3333\", rev(RColorBrewer::brewer.pal(n=3, name = \"Dark2\"))[3]), \n",
    "    xlab = \"RNA log2FC\", ylab = \"Protein log2FC\",\n",
    "    ggtheme = theme_pubr() + theme(aspect.ratio = 0.7), \n",
    "    cor.coef = TRUE, cor.method = \"pearson\", print = FALSE,\n",
    " margin.params = list(fill = \"Significance\", color = \"black\", size = 0.2), legend = \"right\"\n",
    ") \n",
    "\n",
    "plot$sp <- plot$sp + guides(color = guide_legend(reverse = TRUE, override.aes = list(size=4)), fill = FALSE)\n",
    "\n",
    "plot"
   ]
  },
  {
   "cell_type": "code",
   "execution_count": null,
   "id": "97259587-0abb-4363-b675-55a313cb3ad3",
   "metadata": {},
   "outputs": [],
   "source": [
    "%%R -w 9 -h 6 --units in -r 300\n",
    "\n",
    "ggexport(plot, filename = \"output_files/main_l2fc_plot.pdf\")"
   ]
  },
  {
   "cell_type": "code",
   "execution_count": null,
   "id": "97ccef39-9704-47dc-9efd-3ed39716e300",
   "metadata": {},
   "outputs": [],
   "source": [
    "%%R\n",
    "\n",
    "merge.df <- merge.df %>% mutate(select_label = ifelse(Significance == \"Both (concordant)(n = 67)\", gene_names, NA))"
   ]
  },
  {
   "cell_type": "code",
   "execution_count": null,
   "id": "52cca35e-027c-403c-8604-eb76e2bfb91d",
   "metadata": {},
   "outputs": [],
   "source": [
    "%%R -w 9 -h 6 --units in -r 300\n",
    "# plot log2FC scatterplot comparing protein and gene changes in TICI versus PBS samples, and highlight the concordant genes\n",
    "plot <- ggscatterhist(\n",
    " merge.df %>% arrange(significance), x = \"log2FoldChange\", y = \"log2FC\",\n",
    "    alpha = 0.5, color = \"Significance\", shape = 19,\n",
    "   fill = \"Significance\", size = 1, palette = c(\"lightgray\", rev(RColorBrewer::brewer.pal(n=3, name = \"Dark2\"))[1], rev(RColorBrewer::brewer.pal(n=3, name = \"Dark2\"))[2], \"#FF3333\", rev(RColorBrewer::brewer.pal(n=3, name = \"Dark2\"))[3]), \n",
    "    xlab = \"RNA log2FC\", ylab = \"Protein log2FC\",\n",
    "    ggtheme = theme_pubr() + theme(aspect.ratio = 0.7), \n",
    "    cor.coef = TRUE, cor.method = \"pearson\", print = FALSE,\n",
    "    label = \"select_label\", repel = FALSE, font.label = c(5, \"plain\", \"black\"),\n",
    " margin.params = list(fill = \"Significance\", color = \"black\", size = 0.2), legend = \"right\"\n",
    ") \n",
    "\n",
    "plot$sp <- plot$sp + guides(color = guide_legend(reverse = TRUE, override.aes = list(size=4)), fill = FALSE)\n",
    "\n",
    "plot"
   ]
  },
  {
   "cell_type": "code",
   "execution_count": null,
   "id": "98b715bf-c1e1-48ce-aede-01bad7b71673",
   "metadata": {},
   "outputs": [],
   "source": [
    "%%R -w 9 -h 6 --units in -r 300\n",
    "\n",
    "ggexport(plot, filename = \"output_files/l2fc_plot_both_concordant.pdf\")"
   ]
  },
  {
   "cell_type": "code",
   "execution_count": null,
   "id": "fd106d6c-4c35-4f0b-bf50-5e256c98a634",
   "metadata": {},
   "outputs": [],
   "source": [
    "%%R\n",
    "\n",
    "merge.df <- merge.df %>% mutate(select_label = ifelse(Significance == \"Both (discordant)(n = 8)\", gene_names, NA))"
   ]
  },
  {
   "cell_type": "code",
   "execution_count": null,
   "id": "5674a7e1-7501-45f2-a846-01ce128308b6",
   "metadata": {},
   "outputs": [],
   "source": [
    "%%R -w 9 -h 6 --units in -r 300\n",
    "# plot log2FC scatterplot comparing protein and gene changes in TICI versus PBS samples, and highlight the discordant genes\n",
    "plot <- ggscatterhist(\n",
    " merge.df %>% arrange(significance), x = \"log2FoldChange\", y = \"log2FC\",\n",
    "    alpha = 0.5, color = \"Significance\", shape = 19,\n",
    "   fill = \"Significance\", size = 1, palette = c(\"lightgray\", rev(RColorBrewer::brewer.pal(n=3, name = \"Dark2\"))[1], rev(RColorBrewer::brewer.pal(n=3, name = \"Dark2\"))[2], \"#FF3333\", rev(RColorBrewer::brewer.pal(n=3, name = \"Dark2\"))[3]), \n",
    "    xlab = \"RNA log2FC\", ylab = \"Protein log2FC\",\n",
    "    ggtheme = theme_pubr() + theme(aspect.ratio = 0.7), \n",
    "    cor.coef = TRUE, cor.method = \"pearson\", print = FALSE,\n",
    "    label = \"select_label\", repel = FALSE, font.label = c(5, \"plain\", \"black\"),\n",
    " margin.params = list(fill = \"Significance\", color = \"black\", size = 0.2), legend = \"right\"\n",
    ") \n",
    "\n",
    "plot$sp <- plot$sp + guides(color = guide_legend(reverse = TRUE, override.aes = list(size=4)), fill = FALSE)\n",
    "\n",
    "plot"
   ]
  },
  {
   "cell_type": "code",
   "execution_count": null,
   "id": "b6017cc5-5f67-4ccb-88ea-63f70695f31c",
   "metadata": {},
   "outputs": [],
   "source": [
    "%%R -w 9 -h 6 --units in -r 300\n",
    "\n",
    "ggexport(plot, filename = \"output_files/l2fc_plot_both_discordant.pdf\")"
   ]
  },
  {
   "cell_type": "code",
   "execution_count": null,
   "id": "bcb9f667-a909-4308-be8f-cb8d15df6fd0",
   "metadata": {},
   "outputs": [],
   "source": [
    "%%R\n",
    "\n",
    "merge.df <- merge.df %>% mutate(select_label = ifelse(Significance == \"Protein only (n = 14)\", gene_names, NA))"
   ]
  },
  {
   "cell_type": "code",
   "execution_count": null,
   "id": "d0d2c3dd-e896-4e98-b991-5dbdd538e4d7",
   "metadata": {},
   "outputs": [],
   "source": [
    "%%R -w 9 -h 6 --units in -r 300\n",
    "# plot log2FC scatterplot comparing protein and gene changes in TICI versus PBS samples, and highlight the protein only entries\n",
    "plot <- ggscatterhist(\n",
    " merge.df %>% arrange(significance), x = \"log2FoldChange\", y = \"log2FC\",\n",
    "    alpha = 0.5, color = \"Significance\", shape = 19,\n",
    "   fill = \"Significance\", size = 1, palette = c(\"lightgray\", rev(RColorBrewer::brewer.pal(n=3, name = \"Dark2\"))[1], rev(RColorBrewer::brewer.pal(n=3, name = \"Dark2\"))[2], \"#FF3333\", rev(RColorBrewer::brewer.pal(n=3, name = \"Dark2\"))[3]), \n",
    "    xlab = \"RNA log2FC\", ylab = \"Protein log2FC\",\n",
    "    ggtheme = theme_pubr() + theme(aspect.ratio = 0.7), \n",
    "    cor.coef = TRUE, cor.method = \"pearson\", print = FALSE,\n",
    "    label = \"select_label\", repel = FALSE, font.label = c(5, \"plain\", \"black\"),\n",
    " margin.params = list(fill = \"Significance\", color = \"black\", size = 0.2), legend = \"right\"\n",
    ") \n",
    "\n",
    "plot$sp <- plot$sp + guides(color = guide_legend(reverse = TRUE, override.aes = list(size=4)), fill = FALSE)\n",
    "\n",
    "plot"
   ]
  },
  {
   "cell_type": "code",
   "execution_count": null,
   "id": "9ac1e60f-72ab-4a19-8715-7a65cfcc2ed5",
   "metadata": {},
   "outputs": [],
   "source": [
    "%%R -w 9 -h 6 --units in -r 300\n",
    "\n",
    "ggexport(plot, filename = \"output_files/l2fc_plot_proteinonly.pdf\")"
   ]
  },
  {
   "cell_type": "code",
   "execution_count": null,
   "id": "0aee1c92-95eb-4bc2-9d99-89242ea49274",
   "metadata": {},
   "outputs": [],
   "source": [
    "%%R\n",
    "\n",
    "merge.df <- merge.df %>% mutate(select_label = ifelse(Significance == \"RNA only (n = 966)\", gene_names, NA))"
   ]
  },
  {
   "cell_type": "code",
   "execution_count": null,
   "id": "a16a06de-d67c-4d7a-a93f-3c3d70c19480",
   "metadata": {},
   "outputs": [],
   "source": [
    "%%R -w 9 -h 6 --units in -r 300\n",
    "# plot log2FC scatterplot comparing protein and gene changes in TICI versus PBS samples, and highlight the RNA only entries\n",
    "plot <- ggscatterhist(\n",
    " merge.df %>% arrange(significance), x = \"log2FoldChange\", y = \"log2FC\",\n",
    "    alpha = 0.5, color = \"Significance\", shape = 19,\n",
    "   fill = \"Significance\", size = 1, palette = c(\"lightgray\", rev(RColorBrewer::brewer.pal(n=3, name = \"Dark2\"))[1], rev(RColorBrewer::brewer.pal(n=3, name = \"Dark2\"))[2], \"#FF3333\", rev(RColorBrewer::brewer.pal(n=3, name = \"Dark2\"))[3]), \n",
    "    xlab = \"RNA log2FC\", ylab = \"Protein log2FC\",\n",
    "    ggtheme = theme_pubr() + theme(aspect.ratio = 0.7), \n",
    "    cor.coef = TRUE, cor.method = \"pearson\", print = FALSE,\n",
    "    label = \"select_label\", repel = FALSE, font.label = c(5, \"plain\", \"black\"),\n",
    " margin.params = list(fill = \"Significance\", color = \"black\", size = 0.2), legend = \"right\"\n",
    ") \n",
    "\n",
    "plot$sp <- plot$sp + guides(color = guide_legend(reverse = TRUE, override.aes = list(size=4)), fill = FALSE)\n",
    "\n",
    "plot"
   ]
  },
  {
   "cell_type": "code",
   "execution_count": null,
   "id": "6408775d-75f7-4078-bbed-efd10a7e0729",
   "metadata": {},
   "outputs": [],
   "source": [
    "%%R -w 9 -h 6 --units in -r 300\n",
    "\n",
    "ggexport(plot, filename = \"output_files/l2fc_plot_rnaonly.pdf\")"
   ]
  }
 ],
 "metadata": {
  "kernelspec": {
   "display_name": "Python 3 (ipykernel)",
   "language": "python",
   "name": "python3"
  },
  "language_info": {
   "codemirror_mode": {
    "name": "ipython",
    "version": 3
   },
   "file_extension": ".py",
   "mimetype": "text/x-python",
   "name": "python",
   "nbconvert_exporter": "python",
   "pygments_lexer": "ipython3",
   "version": "3.9.15"
  }
 },
 "nbformat": 4,
 "nbformat_minor": 5
}
